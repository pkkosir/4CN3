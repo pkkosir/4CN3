{
 "cells": [
  {
   "cell_type": "markdown",
   "id": "1ab8b761-757f-4511-8af2-0a382d39325b",
   "metadata": {},
   "source": [
    "<strong><font size=\"8\">A4</font></strong>"
   ]
  },
  {
   "cell_type": "code",
   "execution_count": null,
   "id": "26ef45fa-faf7-4e7d-9114-a97771bc6b73",
   "metadata": {},
   "outputs": [],
   "source": [
    "import mne\n",
    "import numpy as np\n",
    "import matplotlib\n",
    "import matplotlib.pyplot as plt\n",
    "import os\n",
    "import pathlib\n",
    "\n",
    "import eelbrain\n",
    "import eelbrain.datasets._alice\n",
    "from scipy.stats import ttest_1samp #import 1 sample t-test\n",
    "from scipy.stats import pearsonr #import pearson correlation library \n",
    "\n",
    "DATA_ROOT = eelbrain.datasets._alice.get_alice_path() #gets dataset from C:\\User\\<USERNAME>\\Data\\Alice\n",
    "\n",
    "STIMULUS_DIR = DATA_ROOT / 'stimuli' #stimulus data\n",
    "EEG_DIR = DATA_ROOT / 'eeg' #eeg data\n",
    "LOW_FREQ = 0.5 #definitions to be used throughout\n",
    "HIGH_FREQ = 20\n",
    "\n",
    "print(f\"{mne.__version__=}\")\n",
    "print(DATA_ROOT)"
   ]
  },
  {
   "cell_type": "markdown",
   "id": "cd84f0aa-6299-4ef7-b3af-b35629ad0c22",
   "metadata": {},
   "source": [
    "<strong><font size=\"6\">1</font></strong>"
   ]
  },
  {
   "cell_type": "code",
   "execution_count": null,
   "id": "b3485e8b-4d9a-4964-a093-1daa5ddc3574",
   "metadata": {},
   "outputs": [],
   "source": [
    "#----------------------# PREPROCESSING #----------------------#\n",
    "\n",
    "SUBJECT = 'S01' #uses the first subject for part 1\n",
    "\n",
    "raw = mne.io.read_raw(EEG_DIR / SUBJECT / f'{SUBJECT}_alice-raw.fif', preload = True) #reads in the subjects .fif file \n",
    "raw.filter(LOW_FREQ, HIGH_FREQ, n_jobs = 1) #filters the raw based on tutorial recommendation, defaults to single job running only\n",
    "raw.interpolate_bads() #interpolate bad channels\n",
    "\n",
    "events = eelbrain.load.mne.events(raw) #extracts events from the raw data\n",
    "# events\n",
    "\n",
    "#----------------------# GENERATE ENVELOPE #----------------------#\n",
    "\n",
    "envelopes = []\n",
    "for stimulus_id in events['event']: \n",
    "    wav = eelbrain.load.wav(STIMULUS_DIR / f'{stimulus_id}.wav') #NOTE: there are 12 events (.wav files) in the stimulus folder, so always 12 events for each subject\n",
    "    envelope = wav.envelope() #computes acoustic envelope\n",
    "    envelope = eelbrain.filter_data(envelope, LOW_FREQ, HIGH_FREQ, pad='reflect')\n",
    "    envelope = eelbrain.resample(envelope, 50)\n",
    "    envelopes.append(envelope)\n",
    "\n",
    "events['envelope'] = envelopes #adds the envelopes to the events table\n",
    "\n",
    "#----------------------# EEG PROCESSING #----------------------#\n",
    "\n",
    "events['onsets']  = [envelope.diff('time').clip(0) for envelope in envelopes] #identifies onsets within the envelope, by taking positive sudden changes and creating a 2nd predictor\n",
    "events['duration'] = eelbrain.Var([envelope.time.tstop for envelope in events['envelope']]) #extracts stimulus duration\n",
    "events['eeg'] = eelbrain.load.mne.variable_length_epochs(events, 0, tstop='duration', decim=5, connectivity='auto') #extracts EEG data @ time of envelope"
   ]
  },
  {
   "cell_type": "code",
   "execution_count": null,
   "id": "f2526386-01a8-4380-9e26-adac08633513",
   "metadata": {},
   "outputs": [],
   "source": [
    "#----------------------# TRF #----------------------#\n",
    "\n",
    "latencies = [(0,100), (100,200), (200, 300), (300,400), (400,500), (500,600)] #defines the 6 latency windows btwn 0 and 600ms\n",
    "\n",
    "accuracy = [] #array for accuracy in each latency window\n",
    "error = [] #arry for error in each latency window\n",
    "pVals = [] #array for p values for t-test\n",
    "\n",
    "for i in range(len(latencies)):\n",
    "    tmin, tmax = latencies[i] #defines tmin and tmax to be used in eelbrain.boosting() in ms\n",
    "\n",
    "    trf = eelbrain.boosting('eeg', ['envelope', 'onsets'], tmin/1000, tmax/1000, delta=0.05, data=events, partitions=4) #considers both envelope data and the onesets data, converts time into s from ms, and takes 4 partitions (default to 10 which breaks eelbrain)\n",
    "\n",
    "    predPower = trf.proportion_explained.x #predictive power across the sensors, basically the reconstruction accuracy on a held-out dataset. .x pulls out the data only\n",
    "    # print(type(predPower))\n",
    "    \n",
    "    meanAcc = np.mean(predPower) #mean accuracy across all points in the latency window\n",
    "    errAcc = np.std(predPower)/np.sqrt(len(predPower)) #error across all points in the latency window\n",
    "    ttest = ttest_1samp(predPower, 0) #single-sample t-test from the accuracy of each latency window. null-hypothesis is 0, since any value above 0 for \"proportion_explained\" means some amount of variance/predicatbility\n",
    "\n",
    "    accuracy.append(meanAcc)\n",
    "    error.append(errAcc)\n",
    "    pVals.append(ttest[1]) #appends just the p value to the array (don't care about t-statistic outputted)\n",
    "\n",
    "#----------------------# PLOTTING #----------------------#\n",
    "x_labels = [f\"{tmin}–{tmax} ms\" for tmin, tmax in latencies] #labels indicating range (for clarity instead of 0ms, 100ms, etc)\n",
    "\n",
    "plt.figure(figsize=(10,5)) #strched for better readability\n",
    "plt.errorbar(x = x_labels, y=accuracy, yerr=error, fmt='.-', ecolor='r', capsize=2, label=\"Decoding Accuracy\") #plots decoding, adds red error bars w/ endcaps for readability\n",
    "plt.xlabel('Latency (ms)')\n",
    "plt.ylabel('Decoding Accuracy')\n",
    "plt.title(f'Decoding Accuracy vs Latency, Subject {SUBJECT}')\n",
    "plt.grid() #shows gridlines for readability\n",
    "plt.show()"
   ]
  }
 ],
 "metadata": {
  "kernelspec": {
   "display_name": "Python 3 (ipykernel)",
   "language": "python",
   "name": "python3"
  },
  "language_info": {
   "codemirror_mode": {
    "name": "ipython",
    "version": 3
   },
   "file_extension": ".py",
   "mimetype": "text/x-python",
   "name": "python",
   "nbconvert_exporter": "python",
   "pygments_lexer": "ipython3",
   "version": "3.12.9"
  }
 },
 "nbformat": 4,
 "nbformat_minor": 5
}
