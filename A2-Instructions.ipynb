{
 "cells": [
  {
   "cell_type": "markdown",
   "id": "7b203737-bafb-42a8-a5d9-3ea507d66852",
   "metadata": {},
   "source": [
    "# Background\n",
    "\n",
    "The following sources may be particularly relevant for this assignment:\n",
    "- Tutorials:\n",
    "    - Forward models and source spaces: Head model and forward computation\n",
    "- Examples:\n",
    "    - Visualization: Plotting with `mne.viz.Brain`"
   ]
  },
  {
   "cell_type": "markdown",
   "id": "da353cdd-3973-4a56-af33-01baec4c60ac",
   "metadata": {},
   "source": [
    "## General instructions\n",
    "- Name your notebook `firstname-lastname-A2.ipynb`; e.g., `christian-brodbeck-A2.ipynb`\n",
    "- Document your code: explain what it is doing\n",
    "- Use the qestion identifiers in your answer (\"1.1\", \"A\" etc.)\n",
    "- Before submitting, restart the kernel and re-run the whole notebook. This is to make sure your code runs in the sequence you are handing in. We want to see cell execution order numbers 1, 2, ....\n",
    "- Submit an `ipynb` and a `pdf` version of your final notebook\n",
    "- This is meant as an individual assignment and what you hand in should be your work\n",
    "- Please do not use AI; you should be able to justify/explain what you write; if you have questions, please ask us\n",
    "\n",
    "# Setup\n",
    "Use the same setup as in Assignment 1."
   ]
  },
  {
   "cell_type": "markdown",
   "id": "bcfb97af-f1f9-41a7-b0c9-ab1f865b161d",
   "metadata": {},
   "source": [
    "## 1. Forward model\n",
    "\n",
    "We will work with the subject called \"sample\". This is a head model based on an MRI from the same person as the data in Assignment 1.\n",
    "\n",
    "Create a source space with `ico4` spacing (distributing virtual current sources on the cortical surface, based on a 4 times recursively subdivided icosahedron; use `add_dist=False` to reduce the time this takes).\n",
    "Plot the source space using `mne.viz.plot_bem`.\n",
    "Create a 3-layer BEM model (we will use this for EEG as well).\n",
    "Compute a forward solution using a fixed orientation constraint, \n",
    "i.e., including only dipoles that are orthognal to the cortical surface.\n",
    "Extract the leadfield."
   ]
  },
  {
   "cell_type": "markdown",
   "id": "9d875fc1-8ab6-4d36-a650-dde1f8f6d0c2",
   "metadata": {},
   "source": [
    "**A.** Use the leadfield to simulate the following sources:\n",
    "\n",
    "- Equal current in all sources in the left transverse temporal gyrus (primary auditory cortex)\n",
    "- Same for the right transverse temporal gyrus\n",
    "\n",
    "Hints:\n",
    "\n",
    " - Use `mne.read_labels_from_annot` to load the `\"aparc\"` parcellation\n",
    " - Visualize the labels to see them on the specific brain (the plots may open in a separate window and not be visible in the notebook, that's okay for the assignment); you can find a generic map in [Desikan et al., 2006](https://doi.org/10.1016/j.neuroimage.2006.01.021)\n",
    " - The anatomical model we are using is coming from the FreeSurfer software.\n",
    "   The cortical surface of each hemisphere is modeled as a collection of vertices.\n",
    "   Each vertex has a unique integer ID *within a hemisphere* (but the same ID may appear in the two hemispheres).\n",
    " - In `mne.Label` objects, the vertex ID of the vertices belonging to the label is stored as `label.vertices`.\n",
    " - The source space is defined on a subset of the vertices, i.e., each source is located at the location of a vertex. You can access vertex ID in `fwd_fixed['src'][0]['vertno']` (LH) and `fwd_fixed['src'][1]['vertno']` (RH)\n",
    " - Note that the `leadfield` concatenates LH and RH (in this order), whereas the `SourceSpace` represents these separately."
   ]
  },
  {
   "cell_type": "markdown",
   "id": "c0b88aac-2add-45d6-a534-78656e2ef6fd",
   "metadata": {},
   "source": [
    "**B.** Visualize the resulting head maps, each for EEG and MEG (magnetometers).\n",
    "\n",
    "Hint: Re-uniting the sensors in the lead field with the original sensor location information (needed for plotting) is not as straight foward as you would hope. You can use this approach:\n",
    "\n",
    "1. Load the raw data the forward solution is based on as `raw`\n",
    "2. Find the relevant channels with `ch_index = mne.pick_types(raw.info, meg=True, eeg=True, exclude=[])`\n",
    "3. You can now extract the information for those channels with `info = mne.pick_info(raw.info, ch_index)`\n",
    "4. You can now create an `mne.EvokedArray` object, pretending the the simulation is an evoked response with a single time point\n",
    "5. This will allow you to use `evoked.plot_topomap()`"
   ]
  },
  {
   "cell_type": "markdown",
   "id": "af6f8168-23ab-4d9a-b9b0-e764104bb964",
   "metadata": {},
   "source": [
    "**C.** Do the same for the left and right pericalcarine labels (primary visual cortex)."
   ]
  },
  {
   "cell_type": "markdown",
   "id": "caed497d-b749-453e-a4dd-fca636f1b9c6",
   "metadata": {},
   "source": [
    "**D.** Compare the head maps created in **B** and **C**  to the results from the evoked potential/field analysis from Assignment 1. "
   ]
  }
 ],
 "metadata": {
  "jupytext": {
   "formats": "ipynb,py:light"
  },
  "kernelspec": {
   "display_name": "Python 3 (ipykernel)",
   "language": "python",
   "name": "python3"
  },
  "language_info": {
   "codemirror_mode": {
    "name": "ipython",
    "version": 3
   },
   "file_extension": ".py",
   "mimetype": "text/x-python",
   "name": "python",
   "nbconvert_exporter": "python",
   "pygments_lexer": "ipython3",
   "version": "3.12.9"
  }
 },
 "nbformat": 4,
 "nbformat_minor": 5
}
