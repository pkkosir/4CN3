{
 "cells": [
  {
   "cell_type": "markdown",
   "id": "f764a6a0-8195-4ab4-931a-8079cc49fbae",
   "metadata": {},
   "source": [
    "# Background\n",
    "\n",
    "This assignment is a continuation of Assignment 3, using forward models. \n",
    "Use the same dataset and Python environment.\n",
    "\n",
    "The same resources may be helpful:\n",
    "- Eelbrain [examples on TRFs](https://eelbrain.readthedocs.io/en/latest/auto_examples/#temporal-response-functions), in particular [TRF for Alice EEG Dataset](https://eelbrain.readthedocs.io/en/latest/auto_examples/temporal-response-functions/alice-trf.html)\n",
    "- Paper describing more background: https://elifesciences.org/articles/85012"
   ]
  },
  {
   "cell_type": "markdown",
   "id": "c181c552-6b07-4667-bab8-3e622417db11",
   "metadata": {},
   "source": [
    "## General instructions\n",
    "\n",
    "Same general instructions as for A3, with one exception:\n",
    "\n",
    "To speed up the analysis:\n",
    "- It's okay to perform the analysis at 50 Hz (with a 20 Hz low pass filter).\n",
    "- It is okay to save TRFs on disk so you can get back to your result without re-estimating models.\n",
    "  In an earlier part in your notebook, you can save the TRFs as `*.pickle` files \n",
    "  (see [eelbrain.save.pickle](https://eelbrain.readthedocs.io/en/latest/generated/eelbrain.save.pickle.html)),\n",
    "  and in a later part of your script, you can load them again."
   ]
  },
  {
   "cell_type": "markdown",
   "id": "1b78c6dd-40c7-4a77-b259-26e7f5ad0c68",
   "metadata": {},
   "source": [
    "## Setup\n",
    "\n",
    "Setup is based on the [Alice repository](https://github.com/Eelbrain/Alice) and data, as used in Assignment 3."
   ]
  },
  {
   "cell_type": "markdown",
   "id": "db39c6aa-e444-4168-b6c7-839e2fc9ab20",
   "metadata": {},
   "source": [
    "## 1.\n",
    "\n",
    "Question: Does brain activity represent the envelope of acoustic power, acoustic onsets (edges), or both?\n",
    "\n",
    "Use acoustic envelope and onset predictors based on the sound wave, as shown in the \n",
    "[example](https://eelbrain.readthedocs.io/en/latest/auto_examples/temporal-response-functions/alice-trf.html). \n",
    "\n",
    "### Approach: evaluating models\n",
    "\n",
    "Implement a group level evaluation of the model fits. \n",
    "\n",
    "You want to test the predictive power of a given predictor, \n",
    "while controlling for the predctive power of a second predictor.\n",
    "A general strategy for this is to fit a full model (all predictors) \n",
    "and a reduced model (leaving out one of the predictors),\n",
    "and compare predictive power between the two.\n",
    "Make sure to use cross-validation with an unseen test set \n",
    "(through setting the relevant \n",
    "[`boosting`](https://eelbrain.readthedocs.io/en/latest/generated/eelbrain.boosting.html) parameter).\n",
    "Use the `BoostingResult.proportion_explained` attribute as measure of predictive power.\n",
    "\n",
    "For statistics, use a mass-univariate tests, taking into account all sensors. \n",
    "Mass-univariate tests are described in these two examples:\n",
    "\n",
    "- [Permutation statistics](https://eelbrain.readthedocs.io/en/latest/auto_examples/mass-univariate-statistics/permutation-statistics.html)\n",
    "- [T-test](https://eelbrain.readthedocs.io/en/latest/auto_examples/mass-univariate-statistics/sensor-ttest.html)"
   ]
  },
  {
   "cell_type": "markdown",
   "id": "4a8e4e13-f414-4249-a0be-8dff56176ab6",
   "metadata": {},
   "source": [
    "## 2.\n",
    "\n",
    "Question: Is the cochleagram a better predctor of brain actiity than the acoustic waveform?\n",
    "\n",
    "### Approach: Cochleagrams\n",
    "\n",
    "Generate predictors reflecting the acoustic envelope and acoustic onsets based on the cochleagrams.\n",
    "For speed, and comparability, you can use one-dimensional time series by summing across frequency bands.\n",
    "\n",
    "There are scripts provided in the [Alice repository](https://github.com/Eelbrain/Alice) showing how\n",
    "to create these gammatone predictors (`make_gammatone.py` and `make_gammatone_predictors.py` in the \n",
    "[`Alice/predictors`](https://github.com/Eelbrain/Alice/blob/main/predictors) directory).\n",
    "You can use those scripts and just load the resulting predictors in your notebook."
   ]
  },
  {
   "cell_type": "markdown",
   "id": "d05850b1-10af-4013-b896-25383def0d22",
   "metadata": {},
   "source": [
    "## 3: Bonus\n",
    "\n",
    "Think of a predictor variable that could further improve \n",
    "the prediction of EEG responses over the predictors from **2**.\n",
    "Explain why you think it could improve predictions.\n",
    "Test whether, in fact, it does.\n",
    "\n",
    "Evaluation will rely on your reasoning, not on whether your result is significant.\n",
    "I.e., if you provide an interesting hypothesis, \n",
    "the points you get will not depend on whether the outcome is significant or not.\n",
    "\n",
    "You are allowed to use the variables in \n",
    "`'Alice/stimuli/AliceChapterOne-EEG.csv'`,\n",
    "which are described in the original paper on the dataset\n",
    "([Brennan & Hale, 2019](https://doi.org/10.1371/journal.pone.0207741))\n",
    "and the dataset [readme](https://deepblue.lib.umich.edu/data/concern/data_sets/bg257f92t#read_me_display).\n"
   ]
  }
 ],
 "metadata": {
  "jupytext": {
   "formats": "ipynb,py:light"
  },
  "kernelspec": {
   "display_name": "Python 3 (ipykernel)",
   "language": "python",
   "name": "python3"
  },
  "language_info": {
   "codemirror_mode": {
    "name": "ipython",
    "version": 3
   },
   "file_extension": ".py",
   "mimetype": "text/x-python",
   "name": "python",
   "nbconvert_exporter": "python",
   "pygments_lexer": "ipython3",
   "version": "3.12.8"
  }
 },
 "nbformat": 4,
 "nbformat_minor": 5
}
