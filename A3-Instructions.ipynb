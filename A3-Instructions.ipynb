{
 "cells": [
  {
   "cell_type": "markdown",
   "id": "d259abc2-5706-4426-8dcb-d64afb467855",
   "metadata": {},
   "source": [
    "# Background\n",
    "\n",
    "This assignment is on the temporal response function (TRF) framework for EEG analysis.\n",
    "\n",
    "The following sources may be helpful for this assignment:\n",
    "- Eelbrain [examples on TRFs](https://eelbrain.readthedocs.io/en/latest/auto_examples/#temporal-response-functions), in particular [TRF for Alice EEG Dataset](https://eelbrain.readthedocs.io/en/latest/auto_examples/temporal-response-functions/alice-trf.html)\n",
    "- Paper describing more background: https://elifesciences.org/articles/85012\n"
   ]
  },
  {
   "cell_type": "markdown",
   "id": "637a5209-fa68-4a95-b47c-00eb2565bac7",
   "metadata": {},
   "source": [
    "## General instructions\n",
    "Same procedural instructions as for A1/2.\n",
    "\n",
    "In addition: \n",
    "\n",
    "This assignment is in the form of questions about the data. \n",
    "For each question, decide on an approach to answer it at the group level. \n",
    "Generally, repeat the same analysis steps for each subject, \n",
    "collect relevant outcome variable(s) for each subject,\n",
    "and then use appropriate test statistics that answers the question \n",
    "(e.g., a related-measures *t*-test).\n",
    "\n",
    "Basic statistics functions from [scipy.stats](https://docs.scipy.org/doc/scipy/reference/stats.html) should be sufficient\n",
    "(alongside `matplotlib` visualization).\n",
    "However, you are also allowed to use functions from `pandas`, `seaborn`, `mne`, and `eelbrain` if those are helpful.\n",
    "\n",
    "Make sure to formulate your answer to the initial question, and make it clear how the data you present supports you answer.\n",
    "\n",
    "Document reasoning for parameter choices."
   ]
  },
  {
   "cell_type": "markdown",
   "id": "d8c261af-633f-4f24-9951-beae7e15665e",
   "metadata": {},
   "source": [
    "## Setup\n",
    "- Use the environment defined in `A3-environment.yml`.\n",
    "  - Check the file for instructions on how to create the environment from the file\n",
    "- Download the Alice dataset.\n",
    "  - The steps are outlined in the repository's README file (https://github.com/Eelbrain/Alice). In the README, under **Setup**, follow **Download this repository** and **Download the Alice dataset** (you don't need to follow **Create the Python environment** because we are using the `4CN3-A3` environment created in the previuos step)"
   ]
  },
  {
   "cell_type": "markdown",
   "id": "ab25e412-83bc-4f7d-97bd-db2bed9d419d",
   "metadata": {},
   "source": [
    "# Decoding (Backward Model)"
   ]
  },
  {
   "cell_type": "markdown",
   "id": "b9f41e6d-e351-4f5b-b434-0b1fbeed64db",
   "metadata": {},
   "source": [
    "## 1. \n",
    "\n",
    "Question: *At what latencies does the cortical EEG response encode information about the acoustic envlope?*\n",
    "\n",
    "Use cross-validation to fit decoders that can reconstruct the acoustic envelope from the EEG response.\n",
    "Use linear decoders as discussed in class:\n",
    "$\\hat{s}_t = \\sum_{ch} \\sum_{\\tau} h_{ch,\\tau} r_{ch,t+\\tau}$\n",
    "\n",
    "Test the reconstruction accuracy on held-out test data.\n",
    "\n",
    "By restricting the decoder to use EEG in a narrow latency window (i.e., by restricting the range of values used for $\\tau$),\n",
    "you can determine how much information the brain response contains in that latency range about the stimulus envelope.\n",
    "For example, a decoder that only uses EEG data points lagging the stimulus by 175-225 ms\n",
    "($\\tau$ between 175 and 225 ms)\n",
    "can tell you how much information about the stimulus is contained in the EEG response in the latency 175-225 ms.\n",
    "\n",
    "Create a plot that shows decoding performance as a function of latency of the time lags \n",
    "(always using the same number of EEG data points, but varying the latencies used).\n",
    "Use 6 different time ranges to cover the broad range between 0 and 600 ms relative to the stimulus.\n",
    "Include some measure of confidence, like standard errors.\n",
    "Evaluate which latency ranges lead to above chance decoding.\n",
    "\n",
    "To speed up training for this assignment you can set `delta=0.05`. \n",
    "Note that, for a real experiment, we would be trading some accuracy for time."
   ]
  },
  {
   "cell_type": "markdown",
   "id": "7eab56ce-419e-4e81-bcf8-9e81877a9222",
   "metadata": {},
   "source": [
    "## 2. \n",
    "\n",
    "Question: *How much data do you need to distinguish between 2 trials?*\n",
    "\n",
    "Choose parameters for an optimal decoder based on your observations above.\n",
    "\n",
    "For each participant, use the first n-2 trials to fit a decoder. \n",
    "Then, use the decoder to classify trial *n* and trial *n-1* as trial *n* vs trial *n-1*.\n",
    "For example, a simple approach for classifying trial *n* would be to compare\n",
    "$r(\\hat{env_n}, env_n)$ with $r(\\hat{env_n}, env_{n-1})$,\n",
    "where *r* is the Pearson correlation, \n",
    "$env_n$ is the actual envelope of trial *n*,\n",
    "and $\\hat{env_n}$ is the envelope reconstructed from trial *n*.\n",
    "\n",
    "Determine how the length of the test data (trials *n* and *n-1*) affects the decoder's ability to distinguish between the two trials.\n",
    "For example, if you're given only the first 5 s of each trial, your classification will presumably perform worse than if you are given the first 120 s.\n",
    "Use at least 5 different lengths between 5 s and full trial length."
   ]
  }
 ],
 "metadata": {
  "jupytext": {
   "formats": "ipynb,py:light"
  },
  "kernelspec": {
   "display_name": "Python 3 (ipykernel)",
   "language": "python",
   "name": "python3"
  },
  "language_info": {
   "codemirror_mode": {
    "name": "ipython",
    "version": 3
   },
   "file_extension": ".py",
   "mimetype": "text/x-python",
   "name": "python",
   "nbconvert_exporter": "python",
   "pygments_lexer": "ipython3",
   "version": "3.12.9"
  }
 },
 "nbformat": 4,
 "nbformat_minor": 5
}
