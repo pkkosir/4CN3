{
 "cells": [
  {
   "cell_type": "markdown",
   "id": "fc56c28c-ef63-4764-a177-d2b15d362668",
   "metadata": {},
   "source": [
    "A1"
   ]
  },
  {
   "cell_type": "code",
   "execution_count": 5,
   "id": "df4547ff-3e02-4e74-a795-53c741ae14b4",
   "metadata": {},
   "outputs": [
    {
     "name": "stdout",
     "output_type": "stream",
     "text": [
      "mne.__version__='1.9.0'\n",
      "C:\\Users\\snowy\\mne_data\\MNE-sample-data\n"
     ]
    }
   ],
   "source": [
    "import mne\n",
    "import numpy\n",
    "data_path = mne.datasets.sample.data_path()\n",
    "\n",
    "print(f\"{mne.__version__=}\")\n",
    "print(data_path)"
   ]
  },
  {
   "cell_type": "markdown",
   "id": "4ff1cc83-7617-4086-9d34-b2ecab9507c8",
   "metadata": {},
   "source": [
    "1.1"
   ]
  },
  {
   "cell_type": "code",
   "execution_count": null,
   "id": "557185d3-bf74-4a84-bf50-7879392b13fb",
   "metadata": {},
   "outputs": [],
   "source": []
  }
 ],
 "metadata": {
  "kernelspec": {
   "display_name": "Python 3 (ipykernel)",
   "language": "python",
   "name": "python3"
  },
  "language_info": {
   "codemirror_mode": {
    "name": "ipython",
    "version": 3
   },
   "file_extension": ".py",
   "mimetype": "text/x-python",
   "name": "python",
   "nbconvert_exporter": "python",
   "pygments_lexer": "ipython3",
   "version": "3.12.8"
  }
 },
 "nbformat": 4,
 "nbformat_minor": 5
}
